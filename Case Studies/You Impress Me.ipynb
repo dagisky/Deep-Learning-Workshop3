{
 "cells": [
  {
   "cell_type": "markdown",
   "metadata": {},
   "source": [
    "# [You Impress Me: Dialogue Generation via Mutual Persona Perception](https://arxiv.org/pdf/2004.05388v1.pdf)"
   ]
  },
  {
   "cell_type": "markdown",
   "metadata": {},
   "source": [
    "The research in cognitive science, suggests that understanding is an essential signal for a high-quality chit-chat conversation. \n",
    "\n",
    "Motivated by this, we propose P2 BOT,a transmitter-receiver based framework with the aim of explicitly modeling understanding. Specifically, P2 BOT incorporates mutual persona perception to enhance the quality of personalized dialogue generation.\n",
    "\n",
    "There still exist some serious challenges in building personalized chatbots that can deliver engaging conversations and gain user trust (Song et al., 2019). For example, current chit-chat systems tend to generate uninformative responses (Li et al., 2016b)\n",
    "Moreover, they are usually lack of coherent personality traits due to the fact that training dialogues actually come from a diverse set of speakers (Zhang et al., 2018b).\n",
    "\n",
    "A more straightforward approach, which equips chit-chat systems with predefined personas, was proposed accompanied by a novel dataset, PERSONA-CHAT (Zhang et al., 2018b). \n",
    "What makes PERSONACHAT unique is that personas of both interlocutors are explicitly described using several profile sentences, facilitating the training of chatbots with configurable and persistent personalities."
   ]
  },
  {
   "cell_type": "markdown",
   "metadata": {},
   "source": [
    "The central idea of P2 BOT is to explicitly model understanding between interlocutors and enhance dialogue generation via mutual persona perception. It comprises two components, Transmitter and Receiver, respectively responsible for dialogue generation and mutual persona perception."
   ]
  },
  {
   "cell_type": "markdown",
   "metadata": {},
   "source": [
    "It comprises two components, **Transmitter** and **Receiver**, respectively responsible for dialogue generation and mutual persona perception. $P^2$ BOT: interlocutor A has a persona wA, described with L profile sentences"
   ]
  },
  {
   "cell_type": "code",
   "execution_count": null,
   "metadata": {},
   "outputs": [],
   "source": []
  }
 ],
 "metadata": {
  "kernelspec": {
   "display_name": "Python 3",
   "language": "python",
   "name": "python3"
  },
  "language_info": {
   "codemirror_mode": {
    "name": "ipython",
    "version": 3
   },
   "file_extension": ".py",
   "mimetype": "text/x-python",
   "name": "python",
   "nbconvert_exporter": "python",
   "pygments_lexer": "ipython3",
   "version": "3.8.3"
  }
 },
 "nbformat": 4,
 "nbformat_minor": 4
}
