{
 "cells": [
  {
   "cell_type": "markdown",
   "metadata": {},
   "source": [
    "# Natural Posture Blending Using Deep Neural Networks\n",
    "Motion synthesis approaches are widely used throughout different domains such as gaming, virtual crowds or simulation within\n",
    "production industries. With ongoing digitization, these systems are becoming increasingly indispensable. In general, the utilizedtechnologies can be subdivided in data-driven and model-based approaches.\n",
    "\n",
    "In this paper, we propose a novel deep blending approach for blending collisionfree and feasible postures between a humanoid start and target posture. The network has been trained utilizing the [CMU Graphics Lab Motion Capture database](http://mocap.cs.cmu.edu/motcat.php) to generate feasible postures."
   ]
  },
  {
   "cell_type": "markdown",
   "metadata": {},
   "source": [
    "## Motion Blending & Posture Interpolation\n",
    "Motion blending techniques are used throughout different domains and can produce natural-looking results with low computational efforts. In general, these interpolation approaches can be subdivided into Barycentric-, K-Nearest-Neighbor- and Radial Basis Functioninterpolation [Feng et al. 2012].\n",
    "\n",
    "Moreover, inverse blending [Huang and Kallmann 2010] and inverse kinematics are frequently utilized for solving various constraints. There is, however, no single blending techniques suited for every task [Feng et al. 2012].\n",
    "\n",
    "In contrast to motion blending, posture blending approaches do not interpolate entire motions, instead only individual postures\n",
    "are generated based on given input postures. The simplest way to perform a posture blend is to interpolate between the joint transformations of different postures. However, linear or spline-based interpolation only produces feasible results if the temporal and spatial distance between the two postures is small"
   ]
  },
  {
   "cell_type": "code",
   "execution_count": null,
   "metadata": {},
   "outputs": [],
   "source": []
  }
 ],
 "metadata": {
  "kernelspec": {
   "display_name": "Python 3",
   "language": "python",
   "name": "python3"
  },
  "language_info": {
   "codemirror_mode": {
    "name": "ipython",
    "version": 3
   },
   "file_extension": ".py",
   "mimetype": "text/x-python",
   "name": "python",
   "nbconvert_exporter": "python",
   "pygments_lexer": "ipython3",
   "version": "3.8.3"
  }
 },
 "nbformat": 4,
 "nbformat_minor": 4
}
