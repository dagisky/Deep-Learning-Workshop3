{
 "cells": [
  {
   "cell_type": "markdown",
   "metadata": {},
   "source": [
    "# NewsQA\n",
    "NewsQA presents a challenging machine comprehension dataset of over 100,000 human-generated question-answer pairs. The questions and answers was supplied through crowdworkers based on a set of over 10,000 news articles from CNN, with answers consisting of spans of text from the corresponding articles.\n",
    "\n",
    "Human performance on the dataset was measured and compared with several strong neural models. The performance\n",
    "gap between humans and machines (0.198 in F1) indicates that significant progress can be made on NewsQA through future research."
   ]
  },
  {
   "cell_type": "markdown",
   "metadata": {},
   "source": [
    "The challenging characteristics of NewsQA that distinguish it from most previous comprehension\n",
    "tasks are as follows:\n",
    "* Answers are spans of arbitrary length within an article, rather than single words or entities.\n",
    "* Some questions have no answer in the corresponding article (the null span).\n",
    "* There are no candidate answers from which to choose.\n",
    "* The collection process encourages lexical and syntactic divergence between questions and answers.\n",
    "* A significant proportion of questions requires reasoning beyond simple word- and context-matching."
   ]
  },
  {
   "cell_type": "markdown",
   "metadata": {},
   "source": [
    "### ANSWER SOURCING\n",
    "A second set of crowdworkers (Answerers) provide answers. Although this separation of question\n",
    "and answer increases the overall cognitive load. Answerers receive a full article along with a\n",
    "crowdsourced question and are tasked with determining the answer."
   ]
  },
  {
   "cell_type": "code",
   "execution_count": null,
   "metadata": {},
   "outputs": [],
   "source": []
  },
  {
   "cell_type": "code",
   "execution_count": null,
   "metadata": {},
   "outputs": [],
   "source": []
  }
 ],
 "metadata": {
  "kernelspec": {
   "display_name": "Python 3",
   "language": "python",
   "name": "python3"
  },
  "language_info": {
   "codemirror_mode": {
    "name": "ipython",
    "version": 3
   },
   "file_extension": ".py",
   "mimetype": "text/x-python",
   "name": "python",
   "nbconvert_exporter": "python",
   "pygments_lexer": "ipython3",
   "version": "3.8.3"
  }
 },
 "nbformat": 4,
 "nbformat_minor": 4
}
