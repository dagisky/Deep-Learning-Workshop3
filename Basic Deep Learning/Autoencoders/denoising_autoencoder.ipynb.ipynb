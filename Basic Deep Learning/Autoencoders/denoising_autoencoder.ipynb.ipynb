{
  "cells": [
    {
      "cell_type": "markdown",
      "metadata": {
        "id": "view-in-github",
        "colab_type": "text"
      },
      "source": [
        "<a href=\"https://colab.research.google.com/github/dagisky/Deep-Learning-Workshop3/blob/master/Basic%20Deep%20Learning/Autoencoders/denoising_autoencoder.ipynb.ipynb\" target=\"_parent\"><img src=\"https://colab.research.google.com/assets/colab-badge.svg\" alt=\"Open In Colab\"/></a>"
      ]
    },
    {
      "cell_type": "code",
      "source": [
        "import torch.utils.data\n",
        "from torchvision import datasets, transforms\n",
        "import numpy as np\n",
        "import pandas as pd\n",
        "\n",
        "from torch import nn, optim\n",
        "\n",
        "device = 'cuda' if torch.cuda.is_available() else 'cpu'"
      ],
      "metadata": {
        "id": "cWoO0FR8UY01"
      },
      "execution_count": 1,
      "outputs": []
    },
    {
      "cell_type": "code",
      "source": [
        "from torch.utils.data import DataLoader\n",
        "\n",
        "transform = transforms.Compose([transforms.ToTensor(), transforms.Normalize(0, 1)])\n",
        "\n",
        "# Load the MNIST dataset\n",
        "mnist_dataset_train = datasets.MNIST(root='./data', train=True, download=True, transform=transform)\n",
        "# Load the test MNIST dataset\n",
        "mnist_dataset_test = datasets.MNIST( root='./data', train=False, download=True, transform=transform)\n",
        "\n",
        "batch_size = 128\n",
        "train_loader = torch.utils.data.DataLoader( mnist_dataset_train, batch_size=batch_size, shuffle=True)\n",
        "test_loader = torch.utils.data.DataLoader( mnist_dataset_test, batch_size=5, shuffle=False)"
      ],
      "metadata": {
        "id": "ASzgG157Uq6G",
        "outputId": "33558921-2e46-4450-f39b-14eb8347b4e7",
        "colab": {
          "base_uri": "https://localhost:8080/"
        }
      },
      "execution_count": 2,
      "outputs": [
        {
          "output_type": "stream",
          "name": "stdout",
          "text": [
            "Downloading http://yann.lecun.com/exdb/mnist/train-images-idx3-ubyte.gz\n",
            "Failed to download (trying next):\n",
            "<urlopen error [SSL: CERTIFICATE_VERIFY_FAILED] certificate verify failed: certificate has expired (_ssl.c:1007)>\n",
            "\n",
            "Downloading https://ossci-datasets.s3.amazonaws.com/mnist/train-images-idx3-ubyte.gz\n",
            "Downloading https://ossci-datasets.s3.amazonaws.com/mnist/train-images-idx3-ubyte.gz to ./data/MNIST/raw/train-images-idx3-ubyte.gz\n"
          ]
        },
        {
          "output_type": "stream",
          "name": "stderr",
          "text": [
            "100%|██████████| 9.91M/9.91M [00:00<00:00, 91.5MB/s]\n"
          ]
        },
        {
          "output_type": "stream",
          "name": "stdout",
          "text": [
            "Extracting ./data/MNIST/raw/train-images-idx3-ubyte.gz to ./data/MNIST/raw\n",
            "\n",
            "Downloading http://yann.lecun.com/exdb/mnist/train-labels-idx1-ubyte.gz\n",
            "Failed to download (trying next):\n",
            "<urlopen error [SSL: CERTIFICATE_VERIFY_FAILED] certificate verify failed: certificate has expired (_ssl.c:1007)>\n",
            "\n",
            "Downloading https://ossci-datasets.s3.amazonaws.com/mnist/train-labels-idx1-ubyte.gz\n",
            "Downloading https://ossci-datasets.s3.amazonaws.com/mnist/train-labels-idx1-ubyte.gz to ./data/MNIST/raw/train-labels-idx1-ubyte.gz\n"
          ]
        },
        {
          "output_type": "stream",
          "name": "stderr",
          "text": [
            "100%|██████████| 28.9k/28.9k [00:00<00:00, 22.6MB/s]"
          ]
        },
        {
          "output_type": "stream",
          "name": "stdout",
          "text": [
            "Extracting ./data/MNIST/raw/train-labels-idx1-ubyte.gz to ./data/MNIST/raw\n",
            "\n",
            "Downloading http://yann.lecun.com/exdb/mnist/t10k-images-idx3-ubyte.gz\n",
            "Failed to download (trying next):\n",
            "<urlopen error [SSL: CERTIFICATE_VERIFY_FAILED] certificate verify failed: certificate has expired (_ssl.c:1007)>\n",
            "\n",
            "Downloading https://ossci-datasets.s3.amazonaws.com/mnist/t10k-images-idx3-ubyte.gz\n"
          ]
        },
        {
          "output_type": "stream",
          "name": "stderr",
          "text": [
            "\n"
          ]
        },
        {
          "output_type": "stream",
          "name": "stdout",
          "text": [
            "Downloading https://ossci-datasets.s3.amazonaws.com/mnist/t10k-images-idx3-ubyte.gz to ./data/MNIST/raw/t10k-images-idx3-ubyte.gz\n"
          ]
        },
        {
          "output_type": "stream",
          "name": "stderr",
          "text": [
            "100%|██████████| 1.65M/1.65M [00:00<00:00, 59.6MB/s]\n"
          ]
        },
        {
          "output_type": "stream",
          "name": "stdout",
          "text": [
            "Extracting ./data/MNIST/raw/t10k-images-idx3-ubyte.gz to ./data/MNIST/raw\n",
            "\n",
            "Downloading http://yann.lecun.com/exdb/mnist/t10k-labels-idx1-ubyte.gz\n",
            "Failed to download (trying next):\n",
            "<urlopen error [SSL: CERTIFICATE_VERIFY_FAILED] certificate verify failed: certificate has expired (_ssl.c:1007)>\n",
            "\n",
            "Downloading https://ossci-datasets.s3.amazonaws.com/mnist/t10k-labels-idx1-ubyte.gz\n",
            "Downloading https://ossci-datasets.s3.amazonaws.com/mnist/t10k-labels-idx1-ubyte.gz to ./data/MNIST/raw/t10k-labels-idx1-ubyte.gz\n"
          ]
        },
        {
          "output_type": "stream",
          "name": "stderr",
          "text": [
            "100%|██████████| 4.54k/4.54k [00:00<00:00, 5.91MB/s]"
          ]
        },
        {
          "output_type": "stream",
          "name": "stdout",
          "text": [
            "Extracting ./data/MNIST/raw/t10k-labels-idx1-ubyte.gz to ./data/MNIST/raw\n",
            "\n"
          ]
        },
        {
          "output_type": "stream",
          "name": "stderr",
          "text": [
            "\n"
          ]
        }
      ]
    },
    {
      "cell_type": "code",
      "source": [
        "class DAE(nn.Module):\n",
        "    def __init__(self):\n",
        "        super().__init__()\n",
        "\n",
        "        self.fc1 = nn.Linear(784, 512)\n",
        "        self.fc2 = nn.Linear(512, 256)\n",
        "        self.fc3 = nn.Linear(256, 128)\n",
        "\n",
        "        self.fc4 = nn.Linear(128, 256)\n",
        "        self.fc5 = nn.Linear(256, 512)\n",
        "        self.fc6 = nn.Linear(512, 784)\n",
        "\n",
        "        self.relu = nn.ReLU()\n",
        "        self.sigmoid = nn.Sigmoid()\n",
        "\n",
        "    def encode(self, x):\n",
        "\n",
        "        h1 = self.relu(self.fc1(x))\n",
        "        h2 = self.relu(self.fc2(h1))\n",
        "        return self.relu(self.fc3(h2))\n",
        "\n",
        "    def decode(self, z):\n",
        "        h4 = self.relu(self.fc4(z))\n",
        "        h5 = self.relu(self.fc5(h4))\n",
        "        return self.sigmoid(self.fc6(h5))\n",
        "\n",
        "    def forward(self, x):\n",
        "        q = self.encode(x.view(-1, 784))\n",
        "\n",
        "        return self.decode(q)"
      ],
      "metadata": {
        "id": "ksXmAnH0U77j"
      },
      "execution_count": 3,
      "outputs": []
    },
    {
      "cell_type": "code",
      "source": [
        "def train(epoch, model, train_loader, optimizer,  cuda=True):\n",
        "    model.train()\n",
        "    train_loss = 0\n",
        "    for batch_idx, (data, _) in enumerate(train_loader):\n",
        "        data.to(device)\n",
        "        optimizer.zero_grad()\n",
        "\n",
        "        data_noise = torch.randn(data.shape).to(device)\n",
        "        data_noise = data + data_noise\n",
        "\n",
        "        recon_batch = model(data_noise.to(device))\n",
        "        loss = criterion(recon_batch, data.view(data.size(0), -1).to(device))\n",
        "        loss.backward()\n",
        "\n",
        "        train_loss += loss.item() * len(data)\n",
        "        optimizer.step()\n",
        "\n",
        "        if batch_idx % 100 == 0:\n",
        "            print('Train Epoch: {} [{}/{} ({:.0f}%)]\\tLoss: {:.6f}'.format(epoch, batch_idx * len(data), len(train_loader.dataset),\n",
        "                                                                           100. * batch_idx /\n",
        "                                                                           len(train_loader),\n",
        "                                                                           loss.item()))\n",
        "\n",
        "    print('====&gt; Epoch: {} Average loss: {:.4f}'.format(\n",
        "        epoch, train_loss / len(train_loader.dataset)))\n"
      ],
      "metadata": {
        "id": "CRtzT2YeVAig"
      },
      "execution_count": 4,
      "outputs": []
    },
    {
      "cell_type": "code",
      "source": [
        "epochs = 10\n",
        "\n",
        "model = DAE().to(device)\n",
        "optimizer = optim.Adam(model.parameters(), lr=1e-2)\n",
        "criterion = nn.MSELoss()"
      ],
      "metadata": {
        "id": "rmaFuSi2VG_u"
      },
      "execution_count": 5,
      "outputs": []
    },
    {
      "cell_type": "code",
      "source": [
        "for epoch in range(1, epochs + 1):\n",
        "    train(epoch, model, train_loader, optimizer, True)"
      ],
      "metadata": {
        "id": "IFb4L3wpVKTo",
        "outputId": "432e83de-3bce-44bc-cc13-2994178d934f",
        "colab": {
          "base_uri": "https://localhost:8080/"
        }
      },
      "execution_count": 6,
      "outputs": [
        {
          "output_type": "stream",
          "name": "stdout",
          "text": [
            "Train Epoch: 1 [0/60000 (0%)]\tLoss: 0.231188\n",
            "Train Epoch: 1 [12800/60000 (21%)]\tLoss: 0.057703\n",
            "Train Epoch: 1 [25600/60000 (43%)]\tLoss: 0.049056\n",
            "Train Epoch: 1 [38400/60000 (64%)]\tLoss: 0.043806\n",
            "Train Epoch: 1 [51200/60000 (85%)]\tLoss: 0.045970\n",
            "====&gt; Epoch: 1 Average loss: 0.0523\n",
            "Train Epoch: 2 [0/60000 (0%)]\tLoss: 0.041445\n",
            "Train Epoch: 2 [12800/60000 (21%)]\tLoss: 0.043271\n",
            "Train Epoch: 2 [25600/60000 (43%)]\tLoss: 0.042283\n",
            "Train Epoch: 2 [38400/60000 (64%)]\tLoss: 0.040105\n",
            "Train Epoch: 2 [51200/60000 (85%)]\tLoss: 0.037386\n",
            "====&gt; Epoch: 2 Average loss: 0.0411\n",
            "Train Epoch: 3 [0/60000 (0%)]\tLoss: 0.041297\n",
            "Train Epoch: 3 [12800/60000 (21%)]\tLoss: 0.041652\n",
            "Train Epoch: 3 [25600/60000 (43%)]\tLoss: 0.039144\n",
            "Train Epoch: 3 [38400/60000 (64%)]\tLoss: 0.038459\n",
            "Train Epoch: 3 [51200/60000 (85%)]\tLoss: 0.036404\n",
            "====&gt; Epoch: 3 Average loss: 0.0394\n",
            "Train Epoch: 4 [0/60000 (0%)]\tLoss: 0.038147\n",
            "Train Epoch: 4 [12800/60000 (21%)]\tLoss: 0.037623\n",
            "Train Epoch: 4 [25600/60000 (43%)]\tLoss: 0.038417\n",
            "Train Epoch: 4 [38400/60000 (64%)]\tLoss: 0.039915\n",
            "Train Epoch: 4 [51200/60000 (85%)]\tLoss: 0.038732\n",
            "====&gt; Epoch: 4 Average loss: 0.0387\n",
            "Train Epoch: 5 [0/60000 (0%)]\tLoss: 0.040543\n",
            "Train Epoch: 5 [12800/60000 (21%)]\tLoss: 0.037170\n",
            "Train Epoch: 5 [25600/60000 (43%)]\tLoss: 0.037264\n",
            "Train Epoch: 5 [38400/60000 (64%)]\tLoss: 0.038009\n",
            "Train Epoch: 5 [51200/60000 (85%)]\tLoss: 0.040544\n",
            "====&gt; Epoch: 5 Average loss: 0.0382\n",
            "Train Epoch: 6 [0/60000 (0%)]\tLoss: 0.038548\n",
            "Train Epoch: 6 [12800/60000 (21%)]\tLoss: 0.037194\n",
            "Train Epoch: 6 [25600/60000 (43%)]\tLoss: 0.039194\n",
            "Train Epoch: 6 [38400/60000 (64%)]\tLoss: 0.038553\n",
            "Train Epoch: 6 [51200/60000 (85%)]\tLoss: 0.036768\n",
            "====&gt; Epoch: 6 Average loss: 0.0377\n",
            "Train Epoch: 7 [0/60000 (0%)]\tLoss: 0.036644\n",
            "Train Epoch: 7 [12800/60000 (21%)]\tLoss: 0.036124\n",
            "Train Epoch: 7 [25600/60000 (43%)]\tLoss: 0.038318\n",
            "Train Epoch: 7 [38400/60000 (64%)]\tLoss: 0.036038\n",
            "Train Epoch: 7 [51200/60000 (85%)]\tLoss: 0.037686\n",
            "====&gt; Epoch: 7 Average loss: 0.0373\n",
            "Train Epoch: 8 [0/60000 (0%)]\tLoss: 0.038338\n",
            "Train Epoch: 8 [12800/60000 (21%)]\tLoss: 0.039699\n",
            "Train Epoch: 8 [25600/60000 (43%)]\tLoss: 0.038042\n",
            "Train Epoch: 8 [38400/60000 (64%)]\tLoss: 0.035860\n",
            "Train Epoch: 8 [51200/60000 (85%)]\tLoss: 0.036948\n",
            "====&gt; Epoch: 8 Average loss: 0.0372\n",
            "Train Epoch: 9 [0/60000 (0%)]\tLoss: 0.036031\n",
            "Train Epoch: 9 [12800/60000 (21%)]\tLoss: 0.036671\n",
            "Train Epoch: 9 [25600/60000 (43%)]\tLoss: 0.037967\n",
            "Train Epoch: 9 [38400/60000 (64%)]\tLoss: 0.036427\n",
            "Train Epoch: 9 [51200/60000 (85%)]\tLoss: 0.037726\n",
            "====&gt; Epoch: 9 Average loss: 0.0370\n",
            "Train Epoch: 10 [0/60000 (0%)]\tLoss: 0.036506\n",
            "Train Epoch: 10 [12800/60000 (21%)]\tLoss: 0.034838\n",
            "Train Epoch: 10 [25600/60000 (43%)]\tLoss: 0.036958\n",
            "Train Epoch: 10 [38400/60000 (64%)]\tLoss: 0.036346\n",
            "Train Epoch: 10 [51200/60000 (85%)]\tLoss: 0.037291\n",
            "====&gt; Epoch: 10 Average loss: 0.0367\n"
          ]
        }
      ]
    },
    {
      "cell_type": "code",
      "source": [
        "import matplotlib.pyplot as plt\n",
        "for batch_idx, (data, labels) in enumerate(test_loader):\n",
        "    data.to(device)\n",
        "    optimizer.zero_grad()\n",
        "\n",
        "    data_noise = torch.randn(data.shape).to(device)\n",
        "    data_noise = data + data_noise\n",
        "\n",
        "    recon_batch = model(data_noise.to(device))\n",
        "    break\n",
        "\n",
        "\n",
        "plt.figure(figsize=(20, 12))\n",
        "for i in range(5):\n",
        "\n",
        "    print(f\"Image {i} with label {labels[i]}\", end=\"\")\n",
        "    plt.subplot(3, 5, 1+i)\n",
        "    plt.imshow(data_noise[i, :, :, :].view(\n",
        "        28, 28).detach().numpy(), cmap='binary')\n",
        "    plt.subplot(3, 5, 6+i)\n",
        "    plt.imshow(recon_batch[i, :].view(28, 28).detach().numpy(), cmap='binary')\n",
        "    plt.axis('off')\n",
        "    plt.subplot(3, 5, 11+i)\n",
        "    plt.imshow(data[i, :, :, :].view(28, 28).detach().numpy(), cmap='binary')\n",
        "    plt.axis('off')\n",
        "plt.show()\n"
      ],
      "metadata": {
        "id": "UPym-PEoWfCh",
        "outputId": "5dce9213-b3ae-4c91-feb6-f9722d91f381",
        "colab": {
          "base_uri": "https://localhost:8080/",
          "height": 790
        }
      },
      "execution_count": 8,
      "outputs": [
        {
          "output_type": "stream",
          "name": "stdout",
          "text": [
            "Image 0 with label 7Image 1 with label 2Image 2 with label 1Image 3 with label 0Image 4 with label 4"
          ]
        },
        {
          "output_type": "display_data",
          "data": {
            "text/plain": [
              "<Figure size 2000x1200 with 15 Axes>"
            ],
            "image/png": "[encoded data removed]"
          },
          "metadata": {}
        }
      ]
    }
  ],
  "metadata": {
    "colab": {
      "name": "Welcome To Colab",
      "toc_visible": true,
      "provenance": [],
      "include_colab_link": true
    },
    "kernelspec": {
      "display_name": "Python 3",
      "name": "python3"
    }
  },
  "nbformat": 4,
  "nbformat_minor": 0
}