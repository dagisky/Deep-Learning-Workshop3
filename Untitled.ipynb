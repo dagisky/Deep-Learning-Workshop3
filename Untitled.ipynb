{
 "cells": [
  {
   "cell_type": "markdown",
   "metadata": {},
   "source": [
    "# Robot Motion Planning\n",
    "\n",
    "Note the conficuration of the Robot is described by vector of $n$ Co-ordinates of $q$ and the robot C-space is denoted by $C$. ($C ∈ R^n$)\n",
    "\n",
    "**Configuration**: $q ∈ C ⊆ R^n$  \n",
    "**C-Spaces**: $C = C_{free}  U  C_{obs}$\n",
    "Where $C_{free}$ is set of configurations where the robot is not in any contact with an obstacle and, $C_{obs}$ is the set of cinfigurations where the robot is in colusion with an obstacle  \n",
    "**State**: $x = q or (q, v)$ $q$ if the control inputs are velocities or $(q,v)$ if the control inputs are acclerations or forces. The state space is $X$  \n",
    "**Equation of Motion** $x_{next}= f(x,u)$ where $u ∈ U$ $u$ is element of the control set $U$  \n",
    "$x(T) = x(0) + \\int^T_0 f(x(t), u(t))dt$\n",
    "\n",
    "**_Note:_** The problem statment is:-  \n",
    "Given an initial state $x(0)=x_{start}$ and desired final state $x_goal$, find a time $T$ and set of controls $u:[0, T] -> U$ such that the motion satisfies $x(T)=x_goal$ and $q(t) ∈ C_{free}$ for all $t ∈ [0, T]$ "
   ]
  },
  {
   "cell_type": "markdown",
   "metadata": {},
   "source": [
    "## Variations on the problem\n",
    "* Full Trajectories with timing information or collusion free geometric paths\n",
    "* Full actuation vs not (level of degree of freedom)\n",
    "* Planner could be Real time (capable of making adjustments real time) or offline\n",
    "* Optimal vs Satisfactory\n",
    "* Exact or approximate goal state\n",
    "## Motion planner properties  \n",
    "* Multiple query vs. single query\n",
    "* Copleteness\n"
   ]
  },
  {
   "cell_type": "code",
   "execution_count": null,
   "metadata": {},
   "outputs": [],
   "source": []
  }
 ],
 "metadata": {
  "kernelspec": {
   "display_name": "Python 3",
   "language": "python",
   "name": "python3"
  },
  "language_info": {
   "codemirror_mode": {
    "name": "ipython",
    "version": 3
   },
   "file_extension": ".py",
   "mimetype": "text/x-python",
   "name": "python",
   "nbconvert_exporter": "python",
   "pygments_lexer": "ipython3",
   "version": "3.8.3"
  }
 },
 "nbformat": 4,
 "nbformat_minor": 4
}
